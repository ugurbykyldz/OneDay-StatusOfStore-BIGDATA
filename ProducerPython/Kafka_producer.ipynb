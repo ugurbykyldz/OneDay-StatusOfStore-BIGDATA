{
 "cells": [
  {
   "cell_type": "code",
   "execution_count": 2,
   "id": "cfaedd67",
   "metadata": {},
   "outputs": [],
   "source": [
    "from kafka import KafkaProducer\n",
    "import json\n",
    "import time \n",
    "import DataGenerator"
   ]
  },
  {
   "cell_type": "code",
   "execution_count": 3,
   "id": "37c313fc",
   "metadata": {},
   "outputs": [],
   "source": [
    "bootstrap_servers = [\"localhost:9092\"]"
   ]
  },
  {
   "cell_type": "code",
   "execution_count": 4,
   "id": "f5f85fa3",
   "metadata": {},
   "outputs": [],
   "source": [
    "topic = \"magaza\""
   ]
  },
  {
   "cell_type": "code",
   "execution_count": 6,
   "id": "6be08c1b",
   "metadata": {},
   "outputs": [],
   "source": [
    "producer = KafkaProducer(bootstrap_servers = bootstrap_servers,\n",
    "                        value_serializer = lambda x :\n",
    "                        json.dumps(x).encode(\"utf-8\"))"
   ]
  },
  {
   "cell_type": "code",
   "execution_count": 7,
   "id": "5c804abf",
   "metadata": {},
   "outputs": [],
   "source": [
    "data = DataGenerator.DataGenerator()"
   ]
  },
  {
   "cell_type": "code",
   "execution_count": 12,
   "id": "737cdc2e",
   "metadata": {},
   "outputs": [
    {
     "data": {
      "text/plain": [
       "{'userID': 1653,\n",
       " 'product': 'Kot Ceket',\n",
       " 'price': 130,\n",
       " 'ptype': 'Nakit',\n",
       " 'time': '2021-08-15 08:53:20'}"
      ]
     },
     "execution_count": 12,
     "metadata": {},
     "output_type": "execute_result"
    }
   ],
   "source": [
    "data.dataGeneretor()"
   ]
  },
  {
   "cell_type": "code",
   "execution_count": 21,
   "id": "28a9f0ac",
   "metadata": {},
   "outputs": [],
   "source": [
    "count = 0\n",
    "while True:\n",
    "    producer.send(topic= topic, value=data.dataGeneretor())\n",
    "    \n",
    "    #time.sleep(0.1)\n",
    "    \n",
    "    if count == 2000:\n",
    "        break\n",
    "        \n",
    "    count += 1    "
   ]
  },
  {
   "cell_type": "code",
   "execution_count": null,
   "id": "892ccb4d",
   "metadata": {},
   "outputs": [],
   "source": []
  }
 ],
 "metadata": {
  "kernelspec": {
   "display_name": "Python 3",
   "language": "python",
   "name": "python3"
  },
  "language_info": {
   "codemirror_mode": {
    "name": "ipython",
    "version": 3
   },
   "file_extension": ".py",
   "mimetype": "text/x-python",
   "name": "python",
   "nbconvert_exporter": "python",
   "pygments_lexer": "ipython3",
   "version": "3.8.8"
  }
 },
 "nbformat": 4,
 "nbformat_minor": 5
}
